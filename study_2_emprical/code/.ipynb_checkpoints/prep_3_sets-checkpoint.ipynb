{
 "cells": [
  {
   "cell_type": "code",
   "execution_count": 1,
   "id": "129a14df",
   "metadata": {},
   "outputs": [],
   "source": [
    "import numpy as np\n",
    "import pandas as pd \n",
    "import matplotlib.pyplot as plt "
   ]
  },
  {
   "cell_type": "code",
   "execution_count": 2,
   "id": "c7cf2f51",
   "metadata": {},
   "outputs": [
    {
     "name": "stderr",
     "output_type": "stream",
     "text": [
      "/Users/yoavger/miniforge3/lib/python3.9/site-packages/pandas/core/frame.py:5034: SettingWithCopyWarning: \n",
      "A value is trying to be set on a copy of a slice from a DataFrame\n",
      "\n",
      "See the caveats in the documentation: https://pandas.pydata.org/pandas-docs/stable/user_guide/indexing.html#returning-a-view-versus-a-copy\n",
      "  return super().rename(\n",
      "/Users/yoavger/miniforge3/lib/python3.9/site-packages/pandas/core/frame.py:4901: SettingWithCopyWarning: \n",
      "A value is trying to be set on a copy of a slice from a DataFrame\n",
      "\n",
      "See the caveats in the documentation: https://pandas.pydata.org/pandas-docs/stable/user_guide/indexing.html#returning-a-view-versus-a-copy\n",
      "  return super().drop(\n",
      "/var/folders/sg/xn89shp907j6tn601y5lns7w0000gn/T/ipykernel_87640/2427616614.py:80: SettingWithCopyWarning: \n",
      "A value is trying to be set on a copy of a slice from a DataFrame.\n",
      "Try using .loc[row_indexer,col_indexer] = value instead\n",
      "\n",
      "See the caveats in the documentation: https://pandas.pydata.org/pandas-docs/stable/user_guide/indexing.html#returning-a-view-versus-a-copy\n",
      "  df_i['action_stage_1']-=1\n",
      "/var/folders/sg/xn89shp907j6tn601y5lns7w0000gn/T/ipykernel_87640/2427616614.py:81: SettingWithCopyWarning: \n",
      "A value is trying to be set on a copy of a slice from a DataFrame.\n",
      "Try using .loc[row_indexer,col_indexer] = value instead\n",
      "\n",
      "See the caveats in the documentation: https://pandas.pydata.org/pandas-docs/stable/user_guide/indexing.html#returning-a-view-versus-a-copy\n",
      "  df_i['action_stage_2']%=2\n",
      "/var/folders/sg/xn89shp907j6tn601y5lns7w0000gn/T/ipykernel_87640/2427616614.py:82: SettingWithCopyWarning: \n",
      "A value is trying to be set on a copy of a slice from a DataFrame.\n",
      "Try using .loc[row_indexer,col_indexer] = value instead\n",
      "\n",
      "See the caveats in the documentation: https://pandas.pydata.org/pandas-docs/stable/user_guide/indexing.html#returning-a-view-versus-a-copy\n",
      "  df_i['state_of_stage_2']-=1\n",
      "/var/folders/sg/xn89shp907j6tn601y5lns7w0000gn/T/ipykernel_87640/2427616614.py:10: SettingWithCopyWarning: \n",
      "A value is trying to be set on a copy of a slice from a DataFrame.\n",
      "Try using .loc[row_indexer,col_indexer] = value instead\n",
      "\n",
      "See the caveats in the documentation: https://pandas.pydata.org/pandas-docs/stable/user_guide/indexing.html#returning-a-view-versus-a-copy\n",
      "  df['prev_reward'] = df['reward'].shift(1,fill_value=0)\n",
      "/var/folders/sg/xn89shp907j6tn601y5lns7w0000gn/T/ipykernel_87640/2427616614.py:11: SettingWithCopyWarning: \n",
      "A value is trying to be set on a copy of a slice from a DataFrame.\n",
      "Try using .loc[row_indexer,col_indexer] = value instead\n",
      "\n",
      "See the caveats in the documentation: https://pandas.pydata.org/pandas-docs/stable/user_guide/indexing.html#returning-a-view-versus-a-copy\n",
      "  df['transition_prev'] = df['transition_type'].shift(1,fill_value=0)\n",
      "/var/folders/sg/xn89shp907j6tn601y5lns7w0000gn/T/ipykernel_87640/2427616614.py:12: SettingWithCopyWarning: \n",
      "A value is trying to be set on a copy of a slice from a DataFrame.\n",
      "Try using .loc[row_indexer,col_indexer] = value instead\n",
      "\n",
      "See the caveats in the documentation: https://pandas.pydata.org/pandas-docs/stable/user_guide/indexing.html#returning-a-view-versus-a-copy\n",
      "  df['stay'] = df['action_stage_1'].shift(1)==df['action_stage_1']\n",
      "/Users/yoavger/miniforge3/lib/python3.9/site-packages/pandas/util/_decorators.py:311: SettingWithCopyWarning: \n",
      "A value is trying to be set on a copy of a slice from a DataFrame\n",
      "\n",
      "See the caveats in the documentation: https://pandas.pydata.org/pandas-docs/stable/user_guide/indexing.html#returning-a-view-versus-a-copy\n",
      "  return func(*args, **kwargs)\n",
      "/var/folders/sg/xn89shp907j6tn601y5lns7w0000gn/T/ipykernel_87640/2427616614.py:102: SettingWithCopyWarning: \n",
      "A value is trying to be set on a copy of a slice from a DataFrame.\n",
      "Try using .loc[row_indexer,col_indexer] = value instead\n",
      "\n",
      "See the caveats in the documentation: https://pandas.pydata.org/pandas-docs/stable/user_guide/indexing.html#returning-a-view-versus-a-copy\n",
      "  df_i['action_stage_1']-=1\n",
      "/var/folders/sg/xn89shp907j6tn601y5lns7w0000gn/T/ipykernel_87640/2427616614.py:103: SettingWithCopyWarning: \n",
      "A value is trying to be set on a copy of a slice from a DataFrame.\n",
      "Try using .loc[row_indexer,col_indexer] = value instead\n",
      "\n",
      "See the caveats in the documentation: https://pandas.pydata.org/pandas-docs/stable/user_guide/indexing.html#returning-a-view-versus-a-copy\n",
      "  df_i['action_stage_2']%=2\n",
      "/var/folders/sg/xn89shp907j6tn601y5lns7w0000gn/T/ipykernel_87640/2427616614.py:104: SettingWithCopyWarning: \n",
      "A value is trying to be set on a copy of a slice from a DataFrame.\n",
      "Try using .loc[row_indexer,col_indexer] = value instead\n",
      "\n",
      "See the caveats in the documentation: https://pandas.pydata.org/pandas-docs/stable/user_guide/indexing.html#returning-a-view-versus-a-copy\n",
      "  df_i['state_of_stage_2']-=1\n",
      "/var/folders/sg/xn89shp907j6tn601y5lns7w0000gn/T/ipykernel_87640/2427616614.py:125: SettingWithCopyWarning: \n",
      "A value is trying to be set on a copy of a slice from a DataFrame.\n",
      "Try using .loc[row_indexer,col_indexer] = value instead\n",
      "\n",
      "See the caveats in the documentation: https://pandas.pydata.org/pandas-docs/stable/user_guide/indexing.html#returning-a-view-versus-a-copy\n",
      "  df_i['action_stage_1']-=1\n",
      "/var/folders/sg/xn89shp907j6tn601y5lns7w0000gn/T/ipykernel_87640/2427616614.py:126: SettingWithCopyWarning: \n",
      "A value is trying to be set on a copy of a slice from a DataFrame.\n",
      "Try using .loc[row_indexer,col_indexer] = value instead\n",
      "\n",
      "See the caveats in the documentation: https://pandas.pydata.org/pandas-docs/stable/user_guide/indexing.html#returning-a-view-versus-a-copy\n",
      "  df_i['action_stage_2']%=2\n",
      "/var/folders/sg/xn89shp907j6tn601y5lns7w0000gn/T/ipykernel_87640/2427616614.py:127: SettingWithCopyWarning: \n",
      "A value is trying to be set on a copy of a slice from a DataFrame.\n",
      "Try using .loc[row_indexer,col_indexer] = value instead\n",
      "\n",
      "See the caveats in the documentation: https://pandas.pydata.org/pandas-docs/stable/user_guide/indexing.html#returning-a-view-versus-a-copy\n",
      "  df_i['state_of_stage_2']-=1\n"
     ]
    }
   ],
   "source": [
    "df_tst = pd.read_csv('../data/TST.csv')\n",
    "df_iq = pd.read_csv('../data/wasi.csv')\n",
    "ids = df_iq['SubjectID'].values\n",
    "\n",
    "def update_data_frame(df): \n",
    "    # this funcation add to the data frame 3 columns:\n",
    "    # 1 - prev_reward : if the last trail was rewarded\n",
    "    # 2 - transation_prev : if the last transation was rare or common\n",
    "    # 3 - stay probs \n",
    "    df['prev_reward'] = df['reward'].shift(1,fill_value=0)\n",
    "    df['transition_prev'] = df['transition_type'].shift(1,fill_value=0)\n",
    "    df['stay'] = df['action_stage_1'].shift(1)==df['action_stage_1']\n",
    "    \n",
    "def sigmoid(x):\n",
    "    return(1.0 / (1.0 + np.exp(-x)))\n",
    "\n",
    "def inverse_sigmoid(y):\n",
    "    return(np.log(y/(1-y)))\n",
    "\n",
    "all_dfs = []\n",
    "\n",
    "for i in ids:\n",
    "    if i == 25510:\n",
    "        continue\n",
    "    df = df_tst[df_tst['subjectID'] == i]\n",
    "    df.reset_index(inplace=True)\n",
    "    all_dfs.append(df)\n",
    "\n",
    "new_all_dfs = []\n",
    "\n",
    "for i in all_dfs:\n",
    "    if i.shape[0] == 443: # 121 322 443\n",
    "        new_all_dfs.append(i)\n",
    "        \n",
    "block_0 = []\n",
    "\n",
    "for i in new_all_dfs:\n",
    "    df = i[i['measurement'] == 'baseline']\n",
    "    df.reset_index(inplace=True)\n",
    "    block_0.append(df)\n",
    "\n",
    "block_1 = []\n",
    "\n",
    "for i in new_all_dfs:\n",
    "    df = i[i['measurement'] == 'followup']\n",
    "    df.reset_index(inplace=True)\n",
    "    block_1.append(df)\n",
    "\n",
    "block_2 = []\n",
    "\n",
    "for i in new_all_dfs:\n",
    "    df = i[i['measurement'] == 'six_month']\n",
    "    df.reset_index(inplace=True)\n",
    "    block_2.append(df)\n",
    "    \n",
    "ids = []\n",
    "for i in block_0:\n",
    "    ids.append(i['subjectID'].unique()[0])\n",
    "\n",
    "IQs = []\n",
    "for i in ids:\n",
    "    IQs.append(df_iq[df_iq['SubjectID'] == i].IQ.values[0])\n",
    "    \n",
    "for df_i in block_0:\n",
    "    df_i.rename(columns=\n",
    "                    {\n",
    "                    'choice1':'action_stage_1',\n",
    "                    'choice2':'action_stage_2',\n",
    "                    '2nd_stage_state':'state_of_stage_2',\n",
    "                    'transition':'transition_type',\n",
    "                    'reward':'reward'},inplace=True\n",
    "                    )\n",
    "    \n",
    "    df_i.drop(columns={\n",
    "        'level_0', 'index','measurement','key1', 'key2','rt1', 'rt2',\n",
    "       'iti','1st_stage_stim_left', '1st_stage_stim_right',\n",
    "       '2nd_stage_stim_left', '2nd_stage_stim_right',\n",
    "         'p1','p2', 'p3', 'p4'},inplace=True)\n",
    "    \n",
    "    df_i['action_stage_1']-=1\n",
    "    df_i['action_stage_2']%=2\n",
    "    df_i['state_of_stage_2']-=1\n",
    "    update_data_frame(df_i)\n",
    "    df_i.dropna(inplace=True)\n",
    "    \n",
    "for df_i in block_1:\n",
    "    df_i.rename(columns=\n",
    "                    {\n",
    "                    'choice1':'action_stage_1',\n",
    "                    'choice2':'action_stage_2',\n",
    "                    '2nd_stage_state':'state_of_stage_2',\n",
    "                    'transition':'transition_type',\n",
    "                    'reward':'reward'},inplace=True\n",
    "                    )\n",
    "    \n",
    "    df_i.drop(columns={\n",
    "        'level_0', 'index','measurement','key1', 'key2','rt1', 'rt2',\n",
    "       'iti','1st_stage_stim_left', '1st_stage_stim_right',\n",
    "       '2nd_stage_stim_left', '2nd_stage_stim_right',\n",
    "         'p1','p2', 'p3', 'p4'},inplace=True)\n",
    "    \n",
    "    df_i['action_stage_1']-=1\n",
    "    df_i['action_stage_2']%=2\n",
    "    df_i['state_of_stage_2']-=1\n",
    "    update_data_frame(df_i)\n",
    "    df_i.dropna(inplace=True)\n",
    "    \n",
    "\n",
    "for df_i in block_2:\n",
    "    df_i.rename(columns=\n",
    "                    {\n",
    "                    'choice1':'action_stage_1',\n",
    "                    'choice2':'action_stage_2',\n",
    "                    '2nd_stage_state':'state_of_stage_2',\n",
    "                    'transition':'transition_type',\n",
    "                    'reward':'reward'},inplace=True\n",
    "                    )\n",
    "    \n",
    "    df_i.drop(columns={\n",
    "        'level_0', 'index','measurement','key1', 'key2','rt1', 'rt2',\n",
    "       'iti','1st_stage_stim_left', '1st_stage_stim_right',\n",
    "       '2nd_stage_stim_left', '2nd_stage_stim_right',\n",
    "         'p1','p2', 'p3', 'p4'},inplace=True)\n",
    "    \n",
    "    df_i['action_stage_1']-=1\n",
    "    df_i['action_stage_2']%=2\n",
    "    df_i['state_of_stage_2']-=1\n",
    "    update_data_frame(df_i)\n",
    "    df_i.dropna(inplace=True)\n",
    "    \n",
    "    \n",
    "all_blocks = [block_0,block_1,block_2]"
   ]
  },
  {
   "cell_type": "code",
   "execution_count": 17,
   "id": "cae21b06",
   "metadata": {},
   "outputs": [
    {
     "data": {
      "text/plain": [
       "array([121, 121, 121, 121, 121, 121, 121, 121, 110, 121, 121, 121, 121,\n",
       "       115, 121, 121, 121, 121, 121, 121, 121, 121, 121, 121, 121, 121,\n",
       "       121, 119, 121, 121, 121, 121, 121, 121, 121, 121, 121, 121, 121,\n",
       "       121, 121, 121, 121, 119, 121, 121, 121, 121, 119, 121, 121, 121,\n",
       "       121, 121])"
      ]
     },
     "execution_count": 17,
     "metadata": {},
     "output_type": "execute_result"
    }
   ],
   "source": [
    "np.array([len(j) for j in all_blocks[0]])"
   ]
  },
  {
   "cell_type": "code",
   "execution_count": 18,
   "id": "52aeb963",
   "metadata": {},
   "outputs": [
    {
     "data": {
      "text/plain": [
       "array([201, 201, 199, 201, 201, 199, 201, 201, 201, 201, 201, 199, 201,\n",
       "       199, 201, 201, 201, 201, 201, 201, 199, 201, 201, 199, 199, 201,\n",
       "       201, 201, 199, 197, 201, 201, 201, 201, 199, 201, 201, 197, 197,\n",
       "       201, 201, 195, 201, 193, 201, 201, 201, 201, 197, 197, 201, 201,\n",
       "       199, 199])"
      ]
     },
     "execution_count": 18,
     "metadata": {},
     "output_type": "execute_result"
    }
   ],
   "source": [
    "np.array([len(j) for j in all_blocks[1]])"
   ]
  },
  {
   "cell_type": "code",
   "execution_count": 19,
   "id": "bda7f8d6",
   "metadata": {},
   "outputs": [
    {
     "data": {
      "text/plain": [
       "array([121, 121, 121, 121, 121, 121, 121, 121, 119, 121, 121, 121, 121,\n",
       "       121, 121, 121, 121, 121, 121, 121, 121, 121, 121, 119, 121, 121,\n",
       "       121, 121, 121, 121, 121, 121, 121, 121, 121, 121, 121, 121, 121,\n",
       "       119, 121, 121, 121, 121, 121, 121, 121, 121, 118, 117, 121, 121,\n",
       "       119, 120])"
      ]
     },
     "execution_count": 19,
     "metadata": {},
     "output_type": "execute_result"
    }
   ],
   "source": [
    "np.array([len(j) for j in all_blocks[2]])"
   ]
  },
  {
   "cell_type": "code",
   "execution_count": 26,
   "id": "801e199a",
   "metadata": {},
   "outputs": [
    {
     "data": {
      "image/png": "[encoded data removed]",
      "text/plain": [
       "<Figure size 432x288 with 1 Axes>"
      ]
     },
     "metadata": {
      "needs_background": "light"
     },
     "output_type": "display_data"
    },
    {
     "data": {
      "image/png": "[encoded data removed]",
      "text/plain": [
       "<Figure size 432x288 with 1 Axes>"
      ]
     },
     "metadata": {
      "needs_background": "light"
     },
     "output_type": "display_data"
    },
    {
     "data": {
      "image/png": "[encoded data removed]",
      "text/plain": [
       "<Figure size 432x288 with 1 Axes>"
      ]
     },
     "metadata": {
      "needs_background": "light"
     },
     "output_type": "display_data"
    }
   ],
   "source": [
    "plt.plot(block_0[4]['action_stage_1'])\n",
    "plt.show()\n",
    "plt.plot(block_1[4]['action_stage_1'])\n",
    "plt.show()\n",
    "plt.plot(block_2[4]['action_stage_1'])\n",
    "plt.show()"
   ]
  },
  {
   "cell_type": "code",
   "execution_count": 27,
   "id": "6233f05f",
   "metadata": {},
   "outputs": [
    {
     "data": {
      "image/png": "[encoded data removed]",
      "text/plain": [
       "<Figure size 432x288 with 1 Axes>"
      ]
     },
     "metadata": {
      "needs_background": "light"
     },
     "output_type": "display_data"
    },
    {
     "data": {
      "image/png": "[encoded data removed]",
      "text/plain": [
       "<Figure size 432x288 with 1 Axes>"
      ]
     },
     "metadata": {
      "needs_background": "light"
     },
     "output_type": "display_data"
    },
    {
     "data": {
      "image/png": "[encoded data removed]",
      "text/plain": [
       "<Figure size 432x288 with 1 Axes>"
      ]
     },
     "metadata": {
      "needs_background": "light"
     },
     "output_type": "display_data"
    }
   ],
   "source": [
    "plt.plot(block_0[1]['action_stage_1'])\n",
    "plt.show()\n",
    "plt.plot(block_1[1]['action_stage_1'])\n",
    "plt.show()\n",
    "plt.plot(block_2[1]['action_stage_1'])\n",
    "plt.show()"
   ]
  },
  {
   "cell_type": "code",
   "execution_count": 18,
   "id": "2cdac6d7",
   "metadata": {},
   "outputs": [
    {
     "data": {
      "text/html": [
       "<div>\n",
       "<style scoped>\n",
       "    .dataframe tbody tr th:only-of-type {\n",
       "        vertical-align: middle;\n",
       "    }\n",
       "\n",
       "    .dataframe tbody tr th {\n",
       "        vertical-align: top;\n",
       "    }\n",
       "\n",
       "    .dataframe thead th {\n",
       "        text-align: right;\n",
       "    }\n",
       "</style>\n",
       "<table border=\"1\" class=\"dataframe\">\n",
       "  <thead>\n",
       "    <tr style=\"text-align: right;\">\n",
       "      <th></th>\n",
       "      <th>Unnamed: 0</th>\n",
       "      <th>LL</th>\n",
       "      <th>iq</th>\n",
       "      <th>subject</th>\n",
       "      <th>model_type</th>\n",
       "    </tr>\n",
       "  </thead>\n",
       "  <tbody>\n",
       "    <tr>\n",
       "      <th>0</th>\n",
       "      <td>0</td>\n",
       "      <td>-101.429628</td>\n",
       "      <td>128.0</td>\n",
       "      <td>0</td>\n",
       "      <td>-1</td>\n",
       "    </tr>\n",
       "    <tr>\n",
       "      <th>1</th>\n",
       "      <td>1</td>\n",
       "      <td>-94.907650</td>\n",
       "      <td>128.0</td>\n",
       "      <td>0</td>\n",
       "      <td>1</td>\n",
       "    </tr>\n",
       "    <tr>\n",
       "      <th>2</th>\n",
       "      <td>2</td>\n",
       "      <td>-63.642044</td>\n",
       "      <td>124.0</td>\n",
       "      <td>1</td>\n",
       "      <td>-1</td>\n",
       "    </tr>\n",
       "    <tr>\n",
       "      <th>3</th>\n",
       "      <td>3</td>\n",
       "      <td>-54.898346</td>\n",
       "      <td>124.0</td>\n",
       "      <td>1</td>\n",
       "      <td>1</td>\n",
       "    </tr>\n",
       "    <tr>\n",
       "      <th>4</th>\n",
       "      <td>4</td>\n",
       "      <td>-40.061871</td>\n",
       "      <td>122.0</td>\n",
       "      <td>2</td>\n",
       "      <td>-1</td>\n",
       "    </tr>\n",
       "    <tr>\n",
       "      <th>...</th>\n",
       "      <td>...</td>\n",
       "      <td>...</td>\n",
       "      <td>...</td>\n",
       "      <td>...</td>\n",
       "      <td>...</td>\n",
       "    </tr>\n",
       "    <tr>\n",
       "      <th>103</th>\n",
       "      <td>103</td>\n",
       "      <td>-103.746259</td>\n",
       "      <td>106.0</td>\n",
       "      <td>51</td>\n",
       "      <td>1</td>\n",
       "    </tr>\n",
       "    <tr>\n",
       "      <th>104</th>\n",
       "      <td>104</td>\n",
       "      <td>-60.842058</td>\n",
       "      <td>111.0</td>\n",
       "      <td>52</td>\n",
       "      <td>-1</td>\n",
       "    </tr>\n",
       "    <tr>\n",
       "      <th>105</th>\n",
       "      <td>105</td>\n",
       "      <td>-68.126859</td>\n",
       "      <td>111.0</td>\n",
       "      <td>52</td>\n",
       "      <td>1</td>\n",
       "    </tr>\n",
       "    <tr>\n",
       "      <th>106</th>\n",
       "      <td>106</td>\n",
       "      <td>-101.262666</td>\n",
       "      <td>109.0</td>\n",
       "      <td>53</td>\n",
       "      <td>-1</td>\n",
       "    </tr>\n",
       "    <tr>\n",
       "      <th>107</th>\n",
       "      <td>107</td>\n",
       "      <td>-102.492963</td>\n",
       "      <td>109.0</td>\n",
       "      <td>53</td>\n",
       "      <td>1</td>\n",
       "    </tr>\n",
       "  </tbody>\n",
       "</table>\n",
       "<p>108 rows × 5 columns</p>\n",
       "</div>"
      ],
      "text/plain": [
       "     Unnamed: 0          LL     iq  subject  model_type\n",
       "0             0 -101.429628  128.0        0          -1\n",
       "1             1  -94.907650  128.0        0           1\n",
       "2             2  -63.642044  124.0        1          -1\n",
       "3             3  -54.898346  124.0        1           1\n",
       "4             4  -40.061871  122.0        2          -1\n",
       "..          ...         ...    ...      ...         ...\n",
       "103         103 -103.746259  106.0       51           1\n",
       "104         104  -60.842058  111.0       52          -1\n",
       "105         105  -68.126859  111.0       52           1\n",
       "106         106 -101.262666  109.0       53          -1\n",
       "107         107 -102.492963  109.0       53           1\n",
       "\n",
       "[108 rows x 5 columns]"
      ]
     },
     "execution_count": 18,
     "metadata": {},
     "output_type": "execute_result"
    }
   ],
   "source": [
    "df"
   ]
  },
  {
   "cell_type": "code",
   "execution_count": 28,
   "id": "c111763a",
   "metadata": {},
   "outputs": [],
   "source": [
    "df = pd.read_csv('../data/new_bays.csv')\n",
    "hyb, rnn = df['LL'].values.reshape(54,2).T\n",
    "iq = df['iq'].values.reshape(54,2).T[0]\n",
    "\n",
    "dff = pd.DataFrame({'IQ':iq,'dif_LL':(hyb - rnn)}).sort_values('IQ')\n",
    "dff[\"IQ_bin\"] = pd.qcut(dff['IQ'],5)\n",
    "dff['win'] =  (dff['dif_LL']<0).astype(int)"
   ]
  },
  {
   "cell_type": "code",
   "execution_count": 33,
   "id": "5227eb47",
   "metadata": {},
   "outputs": [
    {
     "data": {
      "text/plain": [
       "<AxesSubplot:xlabel='IQ', ylabel='win'>"
      ]
     },
     "execution_count": 33,
     "metadata": {},
     "output_type": "execute_result"
    },
    {
     "data": {
      "image/png": "[encoded data removed]",
      "text/plain": [
       "<Figure size 432x288 with 1 Axes>"
      ]
     },
     "metadata": {
      "needs_background": "light"
     },
     "output_type": "display_data"
    }
   ],
   "source": [
    "import seaborn as sns \n",
    "import matplotlib.pyplot as plt \n",
    "sns.regplot(data=dff,x='IQ',y='win',logistic=1)"
   ]
  }
 ],
 "metadata": {
  "kernelspec": {
   "display_name": "Python 3 (ipykernel)",
   "language": "python",
   "name": "python3"
  },
  "language_info": {
   "codemirror_mode": {
    "name": "ipython",
    "version": 3
   },
   "file_extension": ".py",
   "mimetype": "text/x-python",
   "name": "python",
   "nbconvert_exporter": "python",
   "pygments_lexer": "ipython3",
   "version": "3.9.2"
  }
 },
 "nbformat": 4,
 "nbformat_minor": 5
}
