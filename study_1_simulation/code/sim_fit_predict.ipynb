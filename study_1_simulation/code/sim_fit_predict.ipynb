{
 "cells": [
  {
   "cell_type": "code",
   "execution_count": null,
   "id": "805c8b47",
   "metadata": {},
   "outputs": [
    {
     "name": "stdout",
     "output_type": "stream",
     "text": [
      "cpu\n"
     ]
    }
   ],
   "source": [
    "import numpy as np\n",
    "import pandas as pd\n",
    "from tqdm import tqdm\n",
    "from scipy import stats\n",
    "import seaborn as sns\n",
    "import matplotlib.pyplot as plt\n",
    "\n",
    "import multiprocessing as mp\n",
    "import pickle \n",
    "import warnings \n",
    "warnings.filterwarnings('ignore')\n",
    "\n",
    "from imports import*\n",
    "from utils import *\n",
    "from logistic_regression import *\n",
    "from rnn import *\n",
    "\n",
    "import torch\n",
    "device = torch.device('cuda' if torch.cuda.is_available() else 'cpu')\n",
    "print(device)"
   ]
  },
  {
   "cell_type": "code",
   "execution_count": 1,
   "id": "dd4a4df9",
   "metadata": {},
   "outputs": [
    {
     "ename": "NameError",
     "evalue": "name 'np' is not defined",
     "output_type": "error",
     "traceback": [
      "\u001b[1;31m---------------------------------------------------------------------------\u001b[0m",
      "\u001b[1;31mNameError\u001b[0m                                 Traceback (most recent call last)",
      "Cell \u001b[1;32mIn[1], line 11\u001b[0m\n\u001b[0;32m      8\u001b[0m num_of_trials \u001b[38;5;241m=\u001b[39m \u001b[38;5;241m200\u001b[39m\n\u001b[0;32m     10\u001b[0m \u001b[38;5;66;03m# for cross valdation \u001b[39;00m\n\u001b[1;32m---> 11\u001b[0m array \u001b[38;5;241m=\u001b[39m \u001b[43mnp\u001b[49m\u001b[38;5;241m.\u001b[39marange(num_of_block)\n\u001b[0;32m     12\u001b[0m cv \u001b[38;5;241m=\u001b[39m [np\u001b[38;5;241m.\u001b[39mroll(array,i) \u001b[38;5;28;01mfor\u001b[39;00m i \u001b[38;5;129;01min\u001b[39;00m \u001b[38;5;28mrange\u001b[39m(num_of_block)]\n\u001b[0;32m     13\u001b[0m cv \u001b[38;5;241m=\u001b[39m np\u001b[38;5;241m.\u001b[39marray(cv)\n",
      "\u001b[1;31mNameError\u001b[0m: name 'np' is not defined"
     ]
    }
   ],
   "source": [
    "# num of agent\n",
    "num_of_agents = 40\n",
    "\n",
    "# num of block\n",
    "num_of_block = 3\n",
    "\n",
    "# num of trials \n",
    "num_of_trials = 200\n",
    "\n",
    "# for cross valdation \n",
    "array = np.arange(num_of_block)\n",
    "cv = [np.roll(array,i) for i in range(num_of_block)]\n",
    "cv = np.array(cv)\n",
    "\n",
    "models = {\n",
    "    \n",
    "    'habit':[  configuration_parameters_habit,\n",
    "               habit_sim,\n",
    "               habit_fit,\n",
    "               habit_predict]\n",
    "}\n",
    "\n",
    "\n",
    "def bce(y_hat,y_true):\n",
    "    eps = 1e-7\n",
    "    return -np.sum( y_true*np.log(y_hat+eps) + (1-y_true)*np.log(1-y_hat+eps) )"
   ]
  },
  {
   "cell_type": "code",
   "execution_count": null,
   "id": "0af18874",
   "metadata": {},
   "outputs": [],
   "source": [
    "# upload data\n",
    "all_data = [] \n",
    "for sim in range(1,num_of_block+1):\n",
    "    data_per_block = []\n",
    "    for agent in range(1,num_of_agents+1):\n",
    "        data_per_block.append((pd.read_csv(f'../data/exploration/exploration_agent_{agent}_sim_{sim}.csv')))\n",
    "    all_data.append(data_per_block)\n",
    "    \n",
    "block_0 = all_data[0]\n",
    "block_1 = all_data[1]\n",
    "block_2 = all_data[2]\n",
    "\n",
    "all_blocks = [block_0,block_1,block_2]"
   ]
  },
  {
   "cell_type": "code",
   "execution_count": null,
   "id": "c1e32ac0",
   "metadata": {},
   "outputs": [
    {
     "name": "stderr",
     "output_type": "stream",
     "text": [
      "  0%|          | 0/1 [00:00<?, ?it/s]"
     ]
    },
    {
     "name": "stdout",
     "output_type": "stream",
     "text": [
      "*** Fit with habit ***\n",
      "*** train 0 | val 1 | test 2 ***\n",
      "*** train 2 | val 0 | test 1 ***\n",
      "*** train 1 | val 2 | test 0 ***\n"
     ]
    },
    {
     "name": "stderr",
     "output_type": "stream",
     "text": [
      "100%|██████████| 1/1 [01:44<00:00, 104.90s/it]\n"
     ]
    },
    {
     "ename": "ValueError",
     "evalue": "need at least one array to concatenate",
     "output_type": "error",
     "traceback": [
      "\u001b[1;31m---------------------------------------------------------------------------\u001b[0m",
      "\u001b[1;31mValueError\u001b[0m                                Traceback (most recent call last)",
      "Cell \u001b[1;32mIn[14], line 78\u001b[0m\n\u001b[0;32m     74\u001b[0m         data_results[\u001b[38;5;124mf\u001b[39m\u001b[38;5;124m'\u001b[39m\u001b[38;5;124mtest_nll_\u001b[39m\u001b[38;5;132;01m{\u001b[39;00mm\u001b[38;5;132;01m}\u001b[39;00m\u001b[38;5;124m'\u001b[39m]\u001b[38;5;241m.\u001b[39mappend(best_test)\n\u001b[0;32m     77\u001b[0m \u001b[38;5;28;01mfor\u001b[39;00m k \u001b[38;5;129;01min\u001b[39;00m data_results:\n\u001b[1;32m---> 78\u001b[0m     data_results[k] \u001b[38;5;241m=\u001b[39m \u001b[43mnp\u001b[49m\u001b[38;5;241;43m.\u001b[39;49m\u001b[43mconcatenate\u001b[49m\u001b[43m(\u001b[49m\u001b[43mdata_results\u001b[49m\u001b[43m[\u001b[49m\u001b[43mk\u001b[49m\u001b[43m]\u001b[49m\u001b[43m)\u001b[49m\n\u001b[0;32m     79\u001b[0m df_the \u001b[38;5;241m=\u001b[39m pd\u001b[38;5;241m.\u001b[39mDataFrame(data_results)\n",
      "File \u001b[1;32m<__array_function__ internals>:200\u001b[0m, in \u001b[0;36mconcatenate\u001b[1;34m(*args, **kwargs)\u001b[0m\n",
      "\u001b[1;31mValueError\u001b[0m: need at least one array to concatenate"
     ]
    }
   ],
   "source": [
    "data_results = {\n",
    "    \n",
    "   'agent': [],\n",
    "   'model': [],\n",
    "   'train_block': [],\n",
    "    \n",
    "   'train_nll_hybrid' : [],\n",
    "   'val_nll_hybrid' : [],\n",
    "   'test_nll_hybrid': [], \n",
    "\n",
    "   'train_nll_habit' : [], \n",
    "   'val_nll_habit' : [],\n",
    "   'test_nll_habit': [], \n",
    "\n",
    "   'train_nll_kdh' : [], \n",
    "   'val_nll_kdh' : [],\n",
    "   'test_nll_kdh': [], \n",
    "    \n",
    "}\n",
    "\n",
    "all_best_param = []\n",
    "\n",
    "\n",
    "K = 5\n",
    "N = num_of_agents\n",
    "data_results['agent'].append(np.tile(np.arange(0,N),len(cv)))\n",
    "data_results['train_block'].append(np.repeat(cv[:,0],N))\n",
    "#data_results['model'].append(np.tile(np.repeat(['hybrid','habit','kdh'],num_of_agents),num_of_block))\n",
    "\n",
    "\n",
    "for train, val, test in cv:\n",
    "    print(f'*** train {train} | val {val} | test {test} ***')\n",
    "    \n",
    "    # fit k times\n",
    "    fit_res = []\n",
    "    for _ in range(K):\n",
    "        pool = mp.Pool(processes=mp.cpu_count())\n",
    "        fit = pool.map(models[m][2], all_blocks[train])\n",
    "        pool.close()\n",
    "        fit_res.append(fit)\n",
    "        \n",
    "    # best train/validation nll    \n",
    "    all_nll_train = np.zeros(shape=(K,N))\n",
    "    all_nll_val = np.zeros(shape=(K,N))\n",
    "    all_nll_test = np.zeros(shape=(K,N))\n",
    "    best_parameters = [] \n",
    "    for k in range(K):\n",
    "        for n in range(N):\n",
    "            _ , y_hat, _ = models[m][3](all_blocks[train][n], fit_res[k][n].x)\n",
    "            nLL = bce(1-y_hat, all_blocks[train][n]['action_stage_1'].values)\n",
    "            all_nll_train[k,n] =  nLL\n",
    "            \n",
    "            _ , y_hat, _ = models[m][3](all_blocks[val][n], fit_res[k][n].x)\n",
    "            nLL = bce(1-y_hat, all_blocks[val][n]['action_stage_1'].values)\n",
    "            all_nll_val[k,n] = nLL\n",
    "            \n",
    "            _ , y_hat, _ = models[m][3](all_blocks[test][n], fit_res[k][n].x)\n",
    "            nLL = bce(1-y_hat, all_blocks[test][n]['action_stage_1'].values)\n",
    "            all_nll_test[k,n] = nLL\n",
    "            \n",
    "    best_train = all_nll_train.min(axis=0)\n",
    "    best_val = all_nll_val.min(axis=0)\n",
    "    indx = np.argmin(all_nll_val,axis=0)\n",
    "    best_test = np.array([all_nll_test[indx[n],n] for n in range(N)])\n",
    "    best_param = np.array([fit_res[indx[n]][n].x for n in range(N)])\n",
    "\n",
    "    all_best_param.append(best_param)\n",
    "    data_results[f'train_nll_{m}'].append(best_train)\n",
    "    data_results[f'val_nll_{m}'].append(best_val)\n",
    "    data_results[f'test_nll_{m}'].append(best_test)\n",
    "        \n",
    "\n",
    "for k in data_results:\n",
    "    data_results[k] = np.concatenate(data_results[k])\n",
    "df_the = pd.DataFrame(data_results)\n"
   ]
  },
  {
   "cell_type": "code",
   "execution_count": null,
   "id": "b16e100f",
   "metadata": {},
   "outputs": [],
   "source": [
    "K = 5\n",
    "N = num_of_agents\n",
    "\n",
    "data_results_lr = {\n",
    "        \n",
    "   'train_nll_lr' : [],\n",
    "   'val_nll_lr' : [],\n",
    "   'test_nll_lr': [], \n",
    "    \n",
    "}\n",
    "\n",
    "for train, val, test in cv:\n",
    "    print(f'*** train {train} | val {val} | test {test} ***')\n",
    "    \n",
    "    all_nll_train = np.zeros(shape=(K,N))\n",
    "    all_nll_val = np.zeros(shape=(K,N))\n",
    "    all_nll_test = np.zeros(shape=(K,N))\n",
    "    \n",
    "    fit_res = []    \n",
    "    for k in range(K):\n",
    "        cur_res = []\n",
    "        for n in range(N):\n",
    "            X, y = preprocess_logistic_regression(all_blocks[train][n],lag=k+1)\n",
    "            clf, inter, coef = fit_logistic_regression(X,y)\n",
    "            cur_res.append(clf)\n",
    "        fit_res.append(cur_res)\n",
    "            \n",
    "    # best train/validation nll    \n",
    "    for k in range(K):\n",
    "        for n in range(N):\n",
    "            clf = fit_res[k][n]\n",
    "            \n",
    "            # train\n",
    "            X, y = preprocess_logistic_regression(all_blocks[train][n],lag=k+1)\n",
    "            if clf == None:\n",
    "                nLL = -np.log(.5)*num_of_trials\n",
    "            else:\n",
    "                y_hat = clf.predict_proba(X)[:,0]\n",
    "                nLL = bce(1-y_hat, all_blocks[train][n]['action_stage_1'].values)\n",
    "            \n",
    "            all_nll_train[k,n] = nLL\n",
    "            \n",
    "            # validation\n",
    "            X, y = preprocess_logistic_regression(all_blocks[val][n],lag=k+1)\n",
    "            if clf == None:\n",
    "                nLL = -np.log(.5)*num_of_trials\n",
    "            else:\n",
    "                y_hat = clf.predict_proba(X)[:,0]\n",
    "                nLL = bce(1-y_hat, all_blocks[val][n]['action_stage_1'].values)\n",
    "            \n",
    "            all_nll_val[k,n] = nLL\n",
    "\n",
    "            X, y = preprocess_logistic_regression(all_blocks[test][n],lag=k+1)            \n",
    "            if clf == None:\n",
    "                nLL = -np.log(.5)*num_of_trials\n",
    "            else:\n",
    "                y_hat = clf.predict_proba(X)[:,0]\n",
    "                nLL = bce(1-y_hat, all_blocks[test][n]['action_stage_1'].values)\n",
    "                \n",
    "            all_nll_test[k,n] = nLL\n",
    "            \n",
    "    best_train = all_nll_train.min(axis=0)\n",
    "    best_val = all_nll_val.min(axis=0)\n",
    "    indx = np.argmin(all_nll_val,axis=0)\n",
    "    best_test = np.array([all_nll_test[indx[n],n] for n in range(N)])\n",
    "    \n",
    "    data_results_lr[f'train_nll_lr'].append(best_train)\n",
    "    data_results_lr[f'val_nll_lr'].append(best_val)\n",
    "    data_results_lr[f'test_nll_lr'].append(best_test)\n",
    "    \n",
    "for k in data_results_lr:\n",
    "    data_results_lr[k] = np.concatenate(data_results_lr[k])\n",
    "df_lr = pd.DataFrame(data_results_lr)\n",
    "\n",
    "\n",
    "df = pd.concat([df_the,df_lr],axis=1)\n",
    "df.to_csv('../results/theory_lr.csv')\n",
    "            "
   ]
  },
  {
   "cell_type": "code",
   "execution_count": null,
   "id": "896d3a01",
   "metadata": {},
   "outputs": [],
   "source": [
    "def calculate_weight_changes_rank(net, network_states_per_epoch, val_loss, window_size=5):\n",
    "    \"\"\"\n",
    "    Calculate the rank of weight changes matrix around the optimal epoch.\n",
    "    \n",
    "    Args:\n",
    "        net: The trained neural network\n",
    "        network_states_per_epoch: List of network states from training\n",
    "        val_loss: Validation loss array from training\n",
    "        window_size: Number of epochs to consider before and after optimal epoch\n",
    "        \n",
    "    Returns:\n",
    "        tuple: (weight_changes_rank, optimal_epoch_idx)\n",
    "    \"\"\"\n",
    "    # Find optimal epoch based on validation loss\n",
    "    optimal_epoch_idx = np.argmin(val_loss)\n",
    "    \n",
    "    # Calculate weight changes around optimal epoch\n",
    "    weight_changes_matrix_list = []\n",
    "    \n",
    "    # Consider window_size epochs before and after the optimal epoch\n",
    "    start_epoch = max(0, optimal_epoch_idx - window_size)\n",
    "    end_epoch = min(len(network_states_per_epoch) - 1, optimal_epoch_idx + window_size)\n",
    "    \n",
    "    for t in range(start_epoch, end_epoch):\n",
    "        # Create temporary networks for states at t and t+1\n",
    "        network_at_t = GRU_NN(INPUT_SIZE, net.hidden_size, 1, OUTPUT_SIZE).to(device)\n",
    "        network_at_t_plus_1 = GRU_NN(INPUT_SIZE, net.hidden_size, 1, OUTPUT_SIZE).to(device)\n",
    "        \n",
    "        # Load states\n",
    "        network_at_t.load_state_dict(network_states_per_epoch[t])\n",
    "        network_at_t_plus_1.load_state_dict(network_states_per_epoch[t + 1])\n",
    "        \n",
    "        # Compute weight changes between consecutive states\n",
    "        weight_changes = compute_weight_changes_between_states(\n",
    "            network_at_t, network_at_t_plus_1)\n",
    "        weight_changes_matrix_list.append(weight_changes)\n",
    "    \n",
    "    # Combine all weight changes into single matrix\n",
    "    complete_weight_changes_matrix = np.hstack(weight_changes_matrix_list)\n",
    "    \n",
    "    # Calculate rank of weight changes matrix\n",
    "    weight_changes_rank = np.linalg.matrix_rank(complete_weight_changes_matrix)\n",
    "    \n",
    "    return weight_changes_rank, optimal_epoch_idx"
   ]
  },
  {
   "cell_type": "code",
   "execution_count": null,
   "id": "4e649eca",
   "metadata": {
    "scrolled": true
   },
   "outputs": [
    {
     "name": "stderr",
     "output_type": "stream",
     "text": [
      "  2%|▎         | 1/40 [03:21<2:10:56, 201.44s/it]"
     ]
    },
    {
     "name": "stdout",
     "output_type": "stream",
     "text": [
      "Done agent 0\n"
     ]
    },
    {
     "name": "stderr",
     "output_type": "stream",
     "text": [
      "  5%|▌         | 2/40 [06:40<2:06:43, 200.10s/it]"
     ]
    },
    {
     "name": "stdout",
     "output_type": "stream",
     "text": [
      "Done agent 1\n"
     ]
    },
    {
     "name": "stderr",
     "output_type": "stream",
     "text": [
      "  8%|▊         | 3/40 [09:57<2:02:26, 198.55s/it]"
     ]
    },
    {
     "name": "stdout",
     "output_type": "stream",
     "text": [
      "Done agent 2\n"
     ]
    },
    {
     "name": "stderr",
     "output_type": "stream",
     "text": [
      " 10%|█         | 4/40 [13:15<1:58:55, 198.22s/it]"
     ]
    },
    {
     "name": "stdout",
     "output_type": "stream",
     "text": [
      "Done agent 3\n"
     ]
    },
    {
     "name": "stderr",
     "output_type": "stream",
     "text": [
      " 12%|█▎        | 5/40 [16:29<1:54:45, 196.73s/it]"
     ]
    },
    {
     "name": "stdout",
     "output_type": "stream",
     "text": [
      "Done agent 4\n"
     ]
    },
    {
     "name": "stderr",
     "output_type": "stream",
     "text": [
      " 15%|█▌        | 6/40 [19:46<1:51:36, 196.96s/it]"
     ]
    },
    {
     "name": "stdout",
     "output_type": "stream",
     "text": [
      "Done agent 5\n"
     ]
    },
    {
     "name": "stderr",
     "output_type": "stream",
     "text": [
      " 18%|█▊        | 7/40 [23:08<1:49:15, 198.65s/it]"
     ]
    },
    {
     "name": "stdout",
     "output_type": "stream",
     "text": [
      "Done agent 6\n"
     ]
    },
    {
     "name": "stderr",
     "output_type": "stream",
     "text": [
      " 20%|██        | 8/40 [26:28<1:46:08, 199.00s/it]"
     ]
    },
    {
     "name": "stdout",
     "output_type": "stream",
     "text": [
      "Done agent 7\n"
     ]
    },
    {
     "name": "stderr",
     "output_type": "stream",
     "text": [
      " 22%|██▎       | 9/40 [29:45<1:42:28, 198.34s/it]"
     ]
    },
    {
     "name": "stdout",
     "output_type": "stream",
     "text": [
      "Done agent 8\n"
     ]
    },
    {
     "name": "stderr",
     "output_type": "stream",
     "text": [
      " 25%|██▌       | 10/40 [33:07<1:39:45, 199.52s/it]"
     ]
    },
    {
     "name": "stdout",
     "output_type": "stream",
     "text": [
      "Done agent 9\n"
     ]
    },
    {
     "name": "stderr",
     "output_type": "stream",
     "text": [
      " 28%|██▊       | 11/40 [36:30<1:36:53, 200.47s/it]"
     ]
    },
    {
     "name": "stdout",
     "output_type": "stream",
     "text": [
      "Done agent 10\n"
     ]
    },
    {
     "name": "stderr",
     "output_type": "stream",
     "text": [
      " 30%|███       | 12/40 [39:52<1:33:50, 201.08s/it]"
     ]
    },
    {
     "name": "stdout",
     "output_type": "stream",
     "text": [
      "Done agent 11\n"
     ]
    },
    {
     "name": "stderr",
     "output_type": "stream",
     "text": [
      " 32%|███▎      | 13/40 [43:08<1:29:44, 199.42s/it]"
     ]
    },
    {
     "name": "stdout",
     "output_type": "stream",
     "text": [
      "Done agent 12\n"
     ]
    },
    {
     "name": "stderr",
     "output_type": "stream",
     "text": [
      " 35%|███▌      | 14/40 [46:29<1:26:42, 200.09s/it]"
     ]
    },
    {
     "name": "stdout",
     "output_type": "stream",
     "text": [
      "Done agent 13\n"
     ]
    },
    {
     "name": "stderr",
     "output_type": "stream",
     "text": [
      " 38%|███▊      | 15/40 [49:53<1:23:46, 201.04s/it]"
     ]
    },
    {
     "name": "stdout",
     "output_type": "stream",
     "text": [
      "Done agent 14\n"
     ]
    },
    {
     "name": "stderr",
     "output_type": "stream",
     "text": [
      " 40%|████      | 16/40 [53:11<1:20:07, 200.33s/it]"
     ]
    },
    {
     "name": "stdout",
     "output_type": "stream",
     "text": [
      "Done agent 15\n"
     ]
    },
    {
     "name": "stderr",
     "output_type": "stream",
     "text": [
      " 42%|████▎     | 17/40 [56:29<1:16:32, 199.68s/it]"
     ]
    },
    {
     "name": "stdout",
     "output_type": "stream",
     "text": [
      "Done agent 16\n"
     ]
    },
    {
     "name": "stderr",
     "output_type": "stream",
     "text": [
      " 45%|████▌     | 18/40 [59:43<1:12:35, 197.97s/it]"
     ]
    },
    {
     "name": "stdout",
     "output_type": "stream",
     "text": [
      "Done agent 17\n"
     ]
    },
    {
     "name": "stderr",
     "output_type": "stream",
     "text": [
      " 48%|████▊     | 19/40 [1:03:02<1:09:23, 198.28s/it]"
     ]
    },
    {
     "name": "stdout",
     "output_type": "stream",
     "text": [
      "Done agent 18\n"
     ]
    },
    {
     "name": "stderr",
     "output_type": "stream",
     "text": [
      " 50%|█████     | 20/40 [1:06:21<1:06:08, 198.45s/it]"
     ]
    },
    {
     "name": "stdout",
     "output_type": "stream",
     "text": [
      "Done agent 19\n"
     ]
    },
    {
     "name": "stderr",
     "output_type": "stream",
     "text": [
      " 52%|█████▎    | 21/40 [1:09:40<1:02:54, 198.65s/it]"
     ]
    },
    {
     "name": "stdout",
     "output_type": "stream",
     "text": [
      "Done agent 20\n"
     ]
    },
    {
     "name": "stderr",
     "output_type": "stream",
     "text": [
      " 55%|█████▌    | 22/40 [1:12:58<59:31, 198.44s/it]  "
     ]
    },
    {
     "name": "stdout",
     "output_type": "stream",
     "text": [
      "Done agent 21\n"
     ]
    },
    {
     "name": "stderr",
     "output_type": "stream",
     "text": [
      " 57%|█████▊    | 23/40 [1:16:17<56:14, 198.49s/it]"
     ]
    },
    {
     "name": "stdout",
     "output_type": "stream",
     "text": [
      "Done agent 22\n"
     ]
    },
    {
     "name": "stderr",
     "output_type": "stream",
     "text": [
      " 60%|██████    | 24/40 [1:19:32<52:38, 197.43s/it]"
     ]
    },
    {
     "name": "stdout",
     "output_type": "stream",
     "text": [
      "Done agent 23\n"
     ]
    },
    {
     "name": "stderr",
     "output_type": "stream",
     "text": [
      " 62%|██████▎   | 25/40 [1:22:51<49:28, 197.89s/it]"
     ]
    },
    {
     "name": "stdout",
     "output_type": "stream",
     "text": [
      "Done agent 24\n"
     ]
    },
    {
     "name": "stderr",
     "output_type": "stream",
     "text": [
      " 65%|██████▌   | 26/40 [1:26:07<46:05, 197.50s/it]"
     ]
    },
    {
     "name": "stdout",
     "output_type": "stream",
     "text": [
      "Done agent 25\n"
     ]
    },
    {
     "name": "stderr",
     "output_type": "stream",
     "text": [
      " 68%|██████▊   | 27/40 [1:29:25<42:47, 197.53s/it]"
     ]
    },
    {
     "name": "stdout",
     "output_type": "stream",
     "text": [
      "Done agent 26\n"
     ]
    },
    {
     "name": "stderr",
     "output_type": "stream",
     "text": [
      " 70%|███████   | 28/40 [1:32:44<39:36, 198.03s/it]"
     ]
    },
    {
     "name": "stdout",
     "output_type": "stream",
     "text": [
      "Done agent 27\n"
     ]
    },
    {
     "name": "stderr",
     "output_type": "stream",
     "text": [
      " 72%|███████▎  | 29/40 [1:36:05<36:25, 198.72s/it]"
     ]
    },
    {
     "name": "stdout",
     "output_type": "stream",
     "text": [
      "Done agent 28\n"
     ]
    },
    {
     "name": "stderr",
     "output_type": "stream",
     "text": [
      " 75%|███████▌  | 30/40 [1:39:21<33:00, 198.08s/it]"
     ]
    },
    {
     "name": "stdout",
     "output_type": "stream",
     "text": [
      "Done agent 29\n"
     ]
    },
    {
     "name": "stderr",
     "output_type": "stream",
     "text": [
      " 78%|███████▊  | 31/40 [1:42:35<29:31, 196.84s/it]"
     ]
    },
    {
     "name": "stdout",
     "output_type": "stream",
     "text": [
      "Done agent 30\n"
     ]
    },
    {
     "name": "stderr",
     "output_type": "stream",
     "text": [
      " 80%|████████  | 32/40 [1:45:47<26:02, 195.30s/it]"
     ]
    },
    {
     "name": "stdout",
     "output_type": "stream",
     "text": [
      "Done agent 31\n"
     ]
    },
    {
     "name": "stderr",
     "output_type": "stream",
     "text": [
      " 82%|████████▎ | 33/40 [1:49:00<22:43, 194.73s/it]"
     ]
    },
    {
     "name": "stdout",
     "output_type": "stream",
     "text": [
      "Done agent 32\n"
     ]
    },
    {
     "name": "stderr",
     "output_type": "stream",
     "text": [
      " 85%|████████▌ | 34/40 [1:52:13<19:24, 194.08s/it]"
     ]
    },
    {
     "name": "stdout",
     "output_type": "stream",
     "text": [
      "Done agent 33\n"
     ]
    },
    {
     "name": "stderr",
     "output_type": "stream",
     "text": [
      " 88%|████████▊ | 35/40 [1:55:31<16:16, 195.21s/it]"
     ]
    },
    {
     "name": "stdout",
     "output_type": "stream",
     "text": [
      "Done agent 34\n"
     ]
    },
    {
     "name": "stderr",
     "output_type": "stream",
     "text": [
      " 90%|█████████ | 36/40 [1:58:45<13:00, 195.11s/it]"
     ]
    },
    {
     "name": "stdout",
     "output_type": "stream",
     "text": [
      "Done agent 35\n"
     ]
    },
    {
     "name": "stderr",
     "output_type": "stream",
     "text": [
      " 92%|█████████▎| 37/40 [2:02:04<09:48, 196.06s/it]"
     ]
    },
    {
     "name": "stdout",
     "output_type": "stream",
     "text": [
      "Done agent 36\n"
     ]
    },
    {
     "name": "stderr",
     "output_type": "stream",
     "text": [
      " 95%|█████████▌| 38/40 [2:05:21<06:32, 196.28s/it]"
     ]
    },
    {
     "name": "stdout",
     "output_type": "stream",
     "text": [
      "Done agent 37\n"
     ]
    },
    {
     "name": "stderr",
     "output_type": "stream",
     "text": [
      " 98%|█████████▊| 39/40 [2:08:46<03:19, 199.17s/it]"
     ]
    },
    {
     "name": "stdout",
     "output_type": "stream",
     "text": [
      "Done agent 38\n"
     ]
    },
    {
     "name": "stderr",
     "output_type": "stream",
     "text": [
      "100%|██████████| 40/40 [2:12:03<00:00, 198.08s/it]"
     ]
    },
    {
     "name": "stdout",
     "output_type": "stream",
     "text": [
      "Done agent 39\n"
     ]
    },
    {
     "name": "stderr",
     "output_type": "stream",
     "text": [
      "\n"
     ]
    }
   ],
   "source": [
    "N = num_of_agents\n",
    "\n",
    "INPUT_SIZE = 4 # 3 for the action (one-hot format) and 1 for the reward of the chosen action\n",
    "OUTPUT_SIZE = 3 # probabilities of choosing each action in the next trial\n",
    "LERANING_RATE = 0.001\n",
    "\n",
    "hidden_size = 5\n",
    "num_layers = 1\n",
    "epochs = 1000\n",
    "\n",
    "loss_train, loss_val, loss_test  = [], [], []\n",
    "ll_train, ll_val, ll_test = [], [], []\n",
    "ranks, optimal_epochs = [], []\n",
    "\n",
    "for n in tqdm(range(N)):\n",
    "    network_states_per_epoch = []\n",
    "    for train, val, test in cv:\n",
    "\n",
    "        train_data = behavior_dataset(all_blocks[train][n])\n",
    "        val_data = behavior_dataset(all_blocks[val][n])\n",
    "        test_data = behavior_dataset(all_blocks[test][n])\n",
    "\n",
    "        train_loader = DataLoader(train_data,shuffle=False,batch_size=len(train_data))\n",
    "        val_loader = DataLoader(val_data,shuffle=False,batch_size=len(val_data))\n",
    "        test_loader = DataLoader(test_data,shuffle=False,batch_size=len(test_data))\n",
    "        \n",
    "        rnn = GRU_NN(INPUT_SIZE, hidden_size, num_layers, OUTPUT_SIZE)\n",
    "        rnn, train_loss, train_ll, val_loss, val_ll, test_loss, test_ll, network_states_per_epoch = train_model(rnn,\n",
    "                                                                                train_loader,\n",
    "                                                                                val_loader,\n",
    "                                                                                test_loader,\n",
    "                                                                                epochs=epochs,\n",
    "                                                                                lr=LERANING_RATE) \n",
    "        \n",
    "        rank, optimal_epoch = calculate_weight_changes_rank(rnn, network_states_per_epoch, val_loss)\n",
    "                                                                                                                                       \n",
    "        loss_train.append(train_loss)\n",
    "        loss_val.append(val_loss)\n",
    "        loss_test.append(test_loss)\n",
    "        \n",
    "        ll_train.append(train_ll)\n",
    "        ll_val.append(val_ll)\n",
    "        ll_test.append(test_ll)\n",
    "\n",
    "        ranks.append(rank)\n",
    "        optimal_epochs.append(optimal_epoch)\n",
    "        \n",
    "    print('Done agent',n)\n",
    "    \n",
    "    \n",
    "with open('../results/loss_train.pickle', 'wb') as handle:\n",
    "    pickle.dump(loss_train, handle, protocol=pickle.HIGHEST_PROTOCOL)\n",
    "    \n",
    "with open('../results/loss_val.pickle', 'wb') as handle:\n",
    "    pickle.dump(loss_val, handle, protocol=pickle.HIGHEST_PROTOCOL)\n",
    "    \n",
    "with open('../results/loss_test.pickle', 'wb') as handle:\n",
    "    pickle.dump(loss_test, handle, protocol=pickle.HIGHEST_PROTOCOL)\n",
    "    \n",
    "with open('../results/ll_train.pickle', 'wb') as handle:\n",
    "    pickle.dump(ll_train, handle, protocol=pickle.HIGHEST_PROTOCOL)\n",
    "\n",
    "with open('../results/ll_val.pickle', 'wb') as handle:\n",
    "    pickle.dump(ll_val, handle, protocol=pickle.HIGHEST_PROTOCOL)\n",
    "    \n",
    "with open('../results/ll_test.pickle', 'wb') as handle:\n",
    "    pickle.dump(ll_test, handle, protocol=pickle.HIGHEST_PROTOCOL)\n",
    "\n",
    "with open('../results/ranks.pickle', 'wb') as handle:\n",
    "    pickle.dump(ranks, handle, protocol=pickle.HIGHEST_PROTOCOL)\n",
    "\n",
    "with open('../results/optimal_epochs.pickle', 'wb') as handle:\n",
    "    pickle.dump(optimal_epochs, handle, protocol=pickle.HIGHEST_PROTOCOL)\n",
    "    \n",
    "        \n",
    "        "
   ]
  },
  {
   "cell_type": "code",
   "execution_count": null,
   "id": "e4ec4c60",
   "metadata": {},
   "outputs": [],
   "source": []
  },
  {
   "cell_type": "code",
   "execution_count": 7,
   "id": "bef986c2",
   "metadata": {},
   "outputs": [
    {
     "data": {
      "image/png": "[encoded data removed]",
      "text/plain": [
       "<Figure size 1200x500 with 2 Axes>"
      ]
     },
     "metadata": {},
     "output_type": "display_data"
    }
   ],
   "source": [
    "import matplotlib.pyplot as plt\n",
    "import pickle\n",
    "\n",
    "# Load the results from pickle files\n",
    "file_paths = {\n",
    "    \"loss_train\": \"../results/loss_train.pickle\",\n",
    "    \"loss_val\": \"../results/loss_val.pickle\",\n",
    "    \"loss_test\": \"../results/loss_test.pickle\",\n",
    "    \"ll_train\": \"../results/ll_train.pickle\",\n",
    "    \"ll_val\": \"../results/ll_val.pickle\",\n",
    "    \"ll_test\": \"../results/ll_test.pickle\"\n",
    "}\n",
    "\n",
    "results = {}\n",
    "for key, path in file_paths.items():\n",
    "    with open(path, 'rb') as handle:\n",
    "        results[key] = pickle.load(handle)\n",
    "\n",
    "# Convert lists of lists to averaged lists per epoch\n",
    "epochs = len(results[\"loss_train\"][0])  # Assuming all have the same epoch length\n",
    "avg_results = {key: [sum(epoch) / len(epoch) for epoch in zip(*values)] for key, values in results.items()}\n",
    "\n",
    "# Plotting loss and log-likelihood\n",
    "fig, axes = plt.subplots(1, 2, figsize=(12, 5))\n",
    "\n",
    "# Loss plot\n",
    "axes[0].plot(range(epochs), avg_results[\"loss_train\"], label=\"Train Loss\", marker=\"o\")\n",
    "axes[0].plot(range(epochs), avg_results[\"loss_val\"], label=\"Validation Loss\", marker=\"s\")\n",
    "axes[0].plot(range(epochs), avg_results[\"loss_test\"], label=\"Test Loss\", marker=\"^\")\n",
    "axes[0].set_title(\"Loss Over Epochs\")\n",
    "axes[0].set_xlabel(\"Epochs\")\n",
    "axes[0].set_ylabel(\"Loss\")\n",
    "axes[0].legend()\n",
    "\n",
    "# Log-likelihood plot\n",
    "axes[1].plot(range(epochs), avg_results[\"ll_train\"], label=\"Train Log-Likelihood\", marker=\"o\")\n",
    "axes[1].plot(range(epochs), avg_results[\"ll_val\"], label=\"Validation Log-Likelihood\", marker=\"s\")\n",
    "axes[1].plot(range(epochs), avg_results[\"ll_test\"], label=\"Test Log-Likelihood\", marker=\"^\")\n",
    "axes[1].set_title(\"Log-Likelihood Over Epochs\")\n",
    "axes[1].set_xlabel(\"Epochs\")\n",
    "axes[1].set_ylabel(\"Log-Likelihood\")\n",
    "axes[1].legend()\n",
    "\n",
    "plt.tight_layout()\n",
    "plt.show()\n"
   ]
  }
 ],
 "metadata": {
  "kernelspec": {
   "display_name": "Python 3",
   "language": "python",
   "name": "python3"
  },
  "language_info": {
   "codemirror_mode": {
    "name": "ipython",
    "version": 3
   },
   "file_extension": ".py",
   "mimetype": "text/x-python",
   "name": "python",
   "nbconvert_exporter": "python",
   "pygments_lexer": "ipython3",
   "version": "3.8.8rc1"
  }
 },
 "nbformat": 4,
 "nbformat_minor": 5
}
